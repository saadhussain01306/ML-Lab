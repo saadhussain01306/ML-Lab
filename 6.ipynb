{
 "cells": [
  {
   "cell_type": "code",
   "execution_count": 4,
   "id": "bc2e7d3f-0954-4063-8c01-3328ebc9f7aa",
   "metadata": {},
   "outputs": [
    {
     "name": "stdout",
     "output_type": "stream",
     "text": [
      "Accuracy with Euclidean distance: 0.676923076923077\n",
      "Accuracy with Manhattan distance: 0.6923076923076923\n"
     ]
    }
   ],
   "source": [
    "#6\n",
    "#Write a program to develop the KNN classifier with Euclidean distance and Manhattan distance for the k values as 3 \n",
    "# based on split up of training and testing dataset as 70-30 on Glass dataset.\n",
    "\n",
    "# glass\n",
    "import numpy as np\n",
    "import pandas as pd\n",
    "from sklearn.model_selection import train_test_split\n",
    "from sklearn.neighbors import KNeighborsClassifier\n",
    "from sklearn.metrics import accuracy_score\n",
    "\n",
    "df = pd.read_csv('glass.csv')\n",
    "y = df['Type'].values\n",
    "X = df.drop('Type', axis=1).values\n",
    "\n",
    "X_train, X_test, y_train, y_test = train_test_split(X, y, test_size=0.3)\n",
    "\n",
    "# Using scikit-learn with Euclidean distance\n",
    "clf_euclidean = KNeighborsClassifier(n_neighbors=3, metric='euclidean')\n",
    "clf_euclidean.fit(X_train, y_train)\n",
    "predictions_euclidean = clf_euclidean.predict(X_test)\n",
    "accuracy_euclidean = accuracy_score(y_test, predictions_euclidean)\n",
    "print(\"Accuracy with Euclidean distance:\", accuracy_euclidean)\n",
    "\n",
    "# Using scikit-learn with Manhattan distance\n",
    "clf_manhattan = KNeighborsClassifier(n_neighbors=3, metric='manhattan')\n",
    "clf_manhattan.fit(X_train, y_train)\n",
    "predictions_manhattan = clf_manhattan.predict(X_test)\n",
    "accuracy_manhattan = accuracy_score(y_test, predictions_manhattan)\n",
    "print(\"Accuracy with Manhattan distance:\", accuracy_manhattan)"
   ]
  },
  {
   "cell_type": "code",
   "execution_count": null,
   "id": "d6e2f35c-7fd3-450c-bd95-1e0721348121",
   "metadata": {},
   "outputs": [],
   "source": []
  }
 ],
 "metadata": {
  "kernelspec": {
   "display_name": "Python 3 (ipykernel)",
   "language": "python",
   "name": "python3"
  },
  "language_info": {
   "codemirror_mode": {
    "name": "ipython",
    "version": 3
   },
   "file_extension": ".py",
   "mimetype": "text/x-python",
   "name": "python",
   "nbconvert_exporter": "python",
   "pygments_lexer": "ipython3",
   "version": "3.11.7"
  }
 },
 "nbformat": 4,
 "nbformat_minor": 5
}
