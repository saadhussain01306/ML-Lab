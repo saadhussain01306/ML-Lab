{
 "cells": [
  {
   "cell_type": "code",
   "execution_count": 2,
   "metadata": {},
   "outputs": [
    {
     "name": "stdout",
     "output_type": "stream",
     "text": [
      "Accuracy with Euclidean distance: 0.6307692307692307\n",
      "Accuracy with Manhattan distance: 0.6923076923076923\n"
     ]
    }
   ],
   "source": [
    "# 6.Write a program to develop the KNN classifier for the k values as 3,5,7 based on split up of training and testing dataset as 90-10, 70-30 and leave- one-out on,\n",
    "# a) Glass dataset\n",
    "# b) Fruit dataset\n",
    "# using the different distance metrics like Euclidean and Manhattan distance.\n",
    "\n",
    "# glass\n",
    "import numpy as np\n",
    "import pandas as pd\n",
    "from sklearn.model_selection import train_test_split\n",
    "from sklearn.neighbors import KNeighborsClassifier\n",
    "from sklearn.metrics import accuracy_score\n",
    "\n",
    "df = pd.read_csv('glass.csv')\n",
    "y = df['Type'].values\n",
    "X = df.drop('Type', axis=1).values\n",
    "\n",
    "X_train, X_test, y_train, y_test = train_test_split(X, y, test_size=0.3)\n",
    "\n",
    "# Using scikit-learn with Euclidean distance\n",
    "clf_euclidean = KNeighborsClassifier(n_neighbors=3, metric='euclidean')\n",
    "clf_euclidean.fit(X_train, y_train)\n",
    "predictions_euclidean = clf_euclidean.predict(X_test)\n",
    "accuracy_euclidean = accuracy_score(y_test, predictions_euclidean)\n",
    "print(\"Accuracy with Euclidean distance:\", accuracy_euclidean)\n",
    "\n",
    "# Using scikit-learn with Manhattan distance\n",
    "clf_manhattan = KNeighborsClassifier(n_neighbors=3, metric='manhattan')\n",
    "clf_manhattan.fit(X_train, y_train)\n",
    "predictions_manhattan = clf_manhattan.predict(X_test)\n",
    "accuracy_manhattan = accuracy_score(y_test, predictions_manhattan)\n",
    "print(\"Accuracy with Manhattan distance:\", accuracy_manhattan)"
   ]
  },
  {
   "cell_type": "code",
   "execution_count": 4,
   "metadata": {},
   "outputs": [],
   "source": [
    "# fruits"
   ]
  },
  {
   "cell_type": "code",
   "execution_count": 8,
   "metadata": {},
   "outputs": [
    {
     "name": "stdout",
     "output_type": "stream",
     "text": [
      "Accuracy with Euclidean distance (using sklearn): 0.5833333333333334\n",
      "Accuracy with Manhattan distance (using sklearn): 0.5833333333333334\n"
     ]
    }
   ],
   "source": [
    "import numpy as np\n",
    "import pandas as pd\n",
    "from sklearn.model_selection import train_test_split\n",
    "from sklearn.neighbors import KNeighborsClassifier\n",
    "from sklearn.metrics import accuracy_score\n",
    "\n",
    "\n",
    "df = pd.read_csv('fruits.csv')\n",
    "y = df['fruit_label'].values\n",
    "X = df[['mass', 'width', 'height', 'color_score']].values\n",
    "\n",
    "X_train, X_test, y_train, y_test = train_test_split(X, y, test_size=0.2, random_state=45)\n",
    "\n",
    "# Using scikit-learn with Euclidean distance\n",
    "clf_euclidean = KNeighborsClassifier(n_neighbors=5, metric='euclidean')\n",
    "clf_euclidean.fit(X_train, y_train)\n",
    "predictions_euclidean = clf_euclidean.predict(X_test)\n",
    "\n",
    "accuracy_euclidean = accuracy_score(y_test, predictions_euclidean)\n",
    "print(\"Accuracy with Euclidean distance (using sklearn):\", accuracy_euclidean)\n",
    "\n",
    "# Using scikit-learn with Manhattan distance\n",
    "clf_manhattan = KNeighborsClassifier(n_neighbors=5, metric=\"manhattan\")\n",
    "clf_manhattan.fit(X_train, y_train)\n",
    "predictions_manhattan = clf_manhattan.predict(X_test)\n",
    "\n",
    "accuracy_manhattan = accuracy_score(y_test, predictions_manhattan)\n",
    "print(\"Accuracy with Manhattan distance (using sklearn):\", accuracy_manhattan)"
   ]
  },
  {
   "cell_type": "code",
   "execution_count": null,
   "metadata": {},
   "outputs": [],
   "source": []
  }
 ],
 "metadata": {
  "kernelspec": {
   "display_name": "Python 3",
   "language": "python",
   "name": "python3"
  },
  "language_info": {
   "codemirror_mode": {
    "name": "ipython",
    "version": 3
   },
   "file_extension": ".py",
   "mimetype": "text/x-python",
   "name": "python",
   "nbconvert_exporter": "python",
   "pygments_lexer": "ipython3",
   "version": "3.8.5"
  }
 },
 "nbformat": 4,
 "nbformat_minor": 4
}
