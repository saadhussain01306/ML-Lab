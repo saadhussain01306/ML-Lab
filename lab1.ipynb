{
 "cells": [
  {
   "cell_type": "code",
   "execution_count": 4,
   "id": "bd763d36-866b-4615-986f-d67043cd35af",
   "metadata": {},
   "outputs": [
    {
     "name": "stdout",
     "output_type": "stream",
     "text": [
      "Original Array: [1 2 3 4 5]\n",
      "Array after left rotating by 2 positions: [3 4 5 1 2]\n"
     ]
    }
   ],
   "source": [
    "import numpy as np\n",
    "\n",
    "def left_rotate_array(arr, n):\n",
    "    if n < 0 or n >= len(arr):\n",
    "        print(\"Invalid rotation value\")\n",
    "        return arr\n",
    "    \n",
    "    rotated_array = np.roll(arr, -n)\n",
    "    return rotated_array\n",
    "\n",
    "# Example usage:\n",
    "arr = np.array([1, 2, 3, 4, 5])\n",
    "rotation_value = 2\n",
    "\n",
    "rotated_array = left_rotate_array(arr, rotation_value)\n",
    "print(\"Original Array:\", arr)\n",
    "print(f\"Array after left rotating by {rotation_value} positions:\", rotated_array)\n"
   ]
  },
  {
   "cell_type": "code",
   "execution_count": 2,
   "id": "31c7d358-9e3c-436d-aabf-cc2d35d7c840",
   "metadata": {},
   "outputs": [
    {
     "name": "stdout",
     "output_type": "stream",
     "text": [
      "Original Array: [1 2 3 4 5]\n",
      "Array after right rotating by 2 positions: [4 5 1 2 3]\n"
     ]
    }
   ],
   "source": [
    "import numpy as np\n",
    "\n",
    "def right_rotate_array(arr, n):\n",
    "    if n < 0 or n >= len(arr):\n",
    "        print(\"Invalid rotation value\")\n",
    "        return arr\n",
    "    \n",
    "    rotated_array = np.roll(arr, n)\n",
    "    return rotated_array\n",
    "\n",
    "# Example usage:\n",
    "arr = np.array([1, 2, 3, 4, 5])\n",
    "rotation_value = 2\n",
    "\n",
    "rotated_array = right_rotate_array(arr, rotation_value)\n",
    "print(\"Original Array:\", arr)\n",
    "print(f\"Array after right rotating by {rotation_value} positions:\", rotated_array)"
   ]
  },
  {
   "cell_type": "code",
   "execution_count": 2,
   "id": "a7b1f158-8529-457a-ab61-e0b1e3695eb4",
   "metadata": {},
   "outputs": [
    {
     "name": "stdout",
     "output_type": "stream",
     "text": [
      "The smallest item in the tuple is: 3\n"
     ]
    }
   ],
   "source": [
    "def find_smallest_in_tuple(input_tuple):\n",
    "    if not input_tuple:\n",
    "        print(\"Tuple is empty.\")\n",
    "        return None\n",
    "\n",
    "    smallest_item = min(input_tuple)\n",
    "    return smallest_item\n",
    "\n",
    "# Example usage:\n",
    "sample_tuple = (10, 5, 8, 3, 15, 7)\n",
    "result = find_smallest_in_tuple(sample_tuple)\n",
    "\n",
    "if result is not None:\n",
    "    print(f\"The smallest item in the tuple is: {result}\")\n"
   ]
  },
  {
   "cell_type": "code",
   "execution_count": 3,
   "id": "2c53faf0-a0b6-4298-99b7-3efa27b1c856",
   "metadata": {},
   "outputs": [
    {
     "name": "stdout",
     "output_type": "stream",
     "text": [
      "The largest item in the tuple is: 15\n"
     ]
    }
   ],
   "source": [
    "def find_largest_in_tuple(input_tuple):\n",
    "    if not input_tuple:\n",
    "        print(\"Tuple is empty.\")\n",
    "        return None\n",
    "\n",
    "    largest_item = max(input_tuple)\n",
    "    return largest_item\n",
    "\n",
    "# Example usage:\n",
    "sample_tuple = (10, 5, 8, 3, 15, 7)\n",
    "result = find_largest_in_tuple(sample_tuple)\n",
    "\n",
    "if result is not None:\n",
    "    print(f\"The largest item in the tuple is: {result}\")\n"
   ]
  },
  {
   "cell_type": "code",
   "execution_count": 5,
   "id": "3e490c5c-d816-41b2-a749-81bb588a26be",
   "metadata": {},
   "outputs": [
    {
     "name": "stdout",
     "output_type": "stream",
     "text": [
      "Tuple items:\n",
      "10\n",
      "5\n",
      "8\n",
      "3\n",
      "15\n",
      "7\n"
     ]
    }
   ],
   "source": [
    "def print_tuple_items(input_tuple):\n",
    "    print(\"Tuple items:\")\n",
    "    for item in input_tuple:\n",
    "        print(item)\n",
    "\n",
    "# Example usage:\n",
    "sample_tuple = (10, 5, 8, 3, 15, 7)\n",
    "print_tuple_items(sample_tuple)\n"
   ]
  },
  {
   "cell_type": "code",
   "execution_count": 7,
   "id": "f2e097d3-5040-47c8-861f-e7365ef64c99",
   "metadata": {},
   "outputs": [
    {
     "name": "stdout",
     "output_type": "stream",
     "text": [
      "The length of the tuple is: 6\n"
     ]
    }
   ],
   "source": [
    "def find_tuple_length(input_tuple):\n",
    "    length = len(input_tuple)\n",
    "    return length\n",
    "\n",
    "# Example usage:\n",
    "sample_tuple = (10, 5, 8, 3, 15, 7)\n",
    "length_of_tuple = find_tuple_length(sample_tuple)\n",
    "\n",
    "print(f\"The length of the tuple is: {length_of_tuple}\")\n"
   ]
  },
  {
   "cell_type": "code",
   "execution_count": 8,
   "id": "dc5b8fd0-8c1d-4d34-a612-b73607a9158d",
   "metadata": {},
   "outputs": [
    {
     "name": "stdout",
     "output_type": "stream",
     "text": [
      "Original List: ['Hello', 'World', 'Python', 'Programming']\n",
      "Resulting String: Hello World Python Programming\n"
     ]
    }
   ],
   "source": [
    "def convert_list_to_string(input_list):\n",
    "    result_string = ' '.join(map(str, input_list))\n",
    "    return result_string\n",
    "\n",
    "# Example usage:\n",
    "sample_list = ['Hello', 'World', 'Python', 'Programming']\n",
    "result_string = convert_list_to_string(sample_list)\n",
    "\n",
    "print(\"Original List:\", sample_list)\n",
    "print(\"Resulting String:\", result_string)\n"
   ]
  },
  {
   "cell_type": "code",
   "execution_count": 9,
   "id": "ba2c7bf6-3e89-4ce0-80be-557e1c77b2a3",
   "metadata": {},
   "outputs": [
    {
     "name": "stdout",
     "output_type": "stream",
     "text": [
      "Original List: [1, 2, 3, 4, 5]\n",
      "Resulting Tuple: (1, 2, 3, 4, 5)\n"
     ]
    }
   ],
   "source": [
    "def convert_list_to_tuple(input_list):\n",
    "    result_tuple = tuple(input_list)\n",
    "    return result_tuple\n",
    "\n",
    "# Example usage:\n",
    "sample_list = [1, 2, 3, 4, 5]\n",
    "result_tuple = convert_list_to_tuple(sample_list)\n",
    "\n",
    "print(\"Original List:\", sample_list)\n",
    "print(\"Resulting Tuple:\", result_tuple)\n"
   ]
  },
  {
   "cell_type": "code",
   "execution_count": 10,
   "id": "c481cb94-8ba3-4dae-aa45-79b8f607e33f",
   "metadata": {},
   "outputs": [
    {
     "name": "stdout",
     "output_type": "stream",
     "text": [
      "Original String: Python is an amazing programming language. Python is versatile and easy to learn.\n",
      "Word Count Dictionary:\n",
      "python: 2\n",
      "is: 2\n",
      "an: 1\n",
      "amazing: 1\n",
      "programming: 1\n",
      "language.: 1\n",
      "versatile: 1\n",
      "and: 1\n",
      "easy: 1\n",
      "to: 1\n",
      "learn.: 1\n"
     ]
    }
   ],
   "source": [
    "def count_words(input_string):\n",
    "    words = input_string.split()\n",
    "    word_count = {}\n",
    "\n",
    "    for word in words:\n",
    "        word = word.lower()  # Convert to lowercase to treat words case-insensitively\n",
    "        if word in word_count:\n",
    "            word_count[word] += 1\n",
    "        else:\n",
    "            word_count[word] = 1\n",
    "\n",
    "    return word_count\n",
    "\n",
    "# Example usage:\n",
    "sample_string = \"Python is an amazing programming language. Python is versatile and easy to learn.\"\n",
    "\n",
    "word_count_result = count_words(sample_string)\n",
    "\n",
    "print(\"Original String:\", sample_string)\n",
    "print(\"Word Count Dictionary:\")\n",
    "for word, count in word_count_result.items():\n",
    "    print(f\"{word}: {count}\")\n"
   ]
  },
  {
   "cell_type": "code",
   "execution_count": 12,
   "id": "d7e67267-ca69-43b2-bca5-2e19058a43e4",
   "metadata": {},
   "outputs": [
    {
     "name": "stdout",
     "output_type": "stream",
     "text": [
      "Linked List:\n",
      "1 -> 2 -> 3 -> None\n"
     ]
    }
   ],
   "source": [
    "class Node:\n",
    "    def __init__(self, data):\n",
    "        self.data = data\n",
    "        self.next = None\n",
    "\n",
    "class LinkedList:\n",
    "    def __init__(self):\n",
    "        self.head = None\n",
    "\n",
    "    def is_empty(self):\n",
    "        return self.head is None\n",
    "\n",
    "    def append(self, data):\n",
    "        new_node = Node(data)\n",
    "        if self.is_empty():\n",
    "            self.head = new_node\n",
    "        else:\n",
    "            current_node = self.head\n",
    "            while current_node.next:\n",
    "                current_node = current_node.next\n",
    "            current_node.next = new_node\n",
    "\n",
    "    def display(self):\n",
    "        current_node = self.head\n",
    "        while current_node:\n",
    "            print(current_node.data, end=\" -> \")\n",
    "            current_node = current_node.next\n",
    "        print(\"None\")\n",
    "\n",
    "# Example usage:\n",
    "linked_list = LinkedList()\n",
    "\n",
    "linked_list.append(1)\n",
    "linked_list.append(2)\n",
    "linked_list.append(3)\n",
    "\n",
    "print(\"Linked List:\")\n",
    "linked_list.display()\n"
   ]
  },
  {
   "cell_type": "code",
   "execution_count": 14,
   "id": "a3c3fded-9e2f-4cfb-8f6f-0576de431a9e",
   "metadata": {},
   "outputs": [
    {
     "name": "stdout",
     "output_type": "stream",
     "text": [
      "Array: [0, 0, 0, 0, 0]\n",
      "Array: [10, 5, 8, 3, 15]\n",
      "Element at index 2: 8\n",
      "Maximum element: 15\n",
      "Minimum element: 3\n"
     ]
    }
   ],
   "source": [
    "class ArrayOperation:\n",
    "    def __init__(self, size):\n",
    "        self.size = size\n",
    "        self.array = [0] * size\n",
    "\n",
    "    def display(self):\n",
    "        print(\"Array:\", self.array)\n",
    "\n",
    "    def get_element(self, index):\n",
    "        if 0 <= index < self.size:\n",
    "            return self.array[index]\n",
    "        else:\n",
    "            print(\"Index out of bounds\")\n",
    "            return None\n",
    "\n",
    "    def set_element(self, index, value):\n",
    "        if 0 <= index < self.size:\n",
    "            self.array[index] = value\n",
    "        else:\n",
    "            print(\"Index out of bounds\")\n",
    "\n",
    "    def find_max(self):\n",
    "        if not self.array:\n",
    "            print(\"Array is empty\")\n",
    "            return None\n",
    "        return max(self.array)\n",
    "\n",
    "    def find_min(self):\n",
    "        if not self.array:\n",
    "            print(\"Array is empty\")\n",
    "            return None\n",
    "        return min(self.array)\n",
    "\n",
    "# Example usage:\n",
    "array_size = 5\n",
    "array_operations = ArrayOperation(array_size)\n",
    "\n",
    "array_operations.display()\n",
    "\n",
    "array_operations.set_element(0, 10)\n",
    "array_operations.set_element(1, 5)\n",
    "array_operations.set_element(2, 8)\n",
    "array_operations.set_element(3, 3)\n",
    "array_operations.set_element(4, 15)\n",
    "\n",
    "array_operations.display()\n",
    "\n",
    "print(\"Element at index 2:\", array_operations.get_element(2))\n",
    "\n",
    "print(\"Maximum element:\", array_operations.find_max())\n",
    "print(\"Minimum element:\", array_operations.find_min())\n"
   ]
  },
  {
   "cell_type": "code",
   "execution_count": 15,
   "id": "393108b3-5366-4eea-a17d-f3ac0625f41d",
   "metadata": {},
   "outputs": [
    {
     "name": "stdout",
     "output_type": "stream",
     "text": [
      "Inorder Traversal: [20, 30, 40, 50, 60, 70, 80]\n",
      "Key 40 found in the BST.\n"
     ]
    }
   ],
   "source": [
    "class Node:\n",
    "    def __init__(self, key):\n",
    "        self.key = key\n",
    "        self.left = None\n",
    "        self.right = None\n",
    "\n",
    "class BinarySearchTree:\n",
    "    def __init__(self):\n",
    "        self.root = None\n",
    "\n",
    "    def insert(self, key):\n",
    "        self.root = self._insert(self.root, key)\n",
    "\n",
    "    def _insert(self, root, key):\n",
    "        if root is None:\n",
    "            return Node(key)\n",
    "        \n",
    "        if key < root.key:\n",
    "            root.left = self._insert(root.left, key)\n",
    "        elif key > root.key:\n",
    "            root.right = self._insert(root.right, key)\n",
    "\n",
    "        return root\n",
    "\n",
    "    def search(self, key):\n",
    "        return self._search(self.root, key)\n",
    "\n",
    "    def _search(self, root, key):\n",
    "        if root is None or root.key == key:\n",
    "            return root\n",
    "        if key < root.key:\n",
    "            return self._search(root.left, key)\n",
    "        return self._search(root.right, key)\n",
    "\n",
    "    def inorder_traversal(self):\n",
    "        result = []\n",
    "        self._inorder_traversal(self.root, result)\n",
    "        return result\n",
    "\n",
    "    def _inorder_traversal(self, root, result):\n",
    "        if root:\n",
    "            self._inorder_traversal(root.left, result)\n",
    "            result.append(root.key)\n",
    "            self._inorder_traversal(root.right, result)\n",
    "\n",
    "# Example usage:\n",
    "bst = BinarySearchTree()\n",
    "\n",
    "bst.insert(50)\n",
    "bst.insert(30)\n",
    "bst.insert(70)\n",
    "bst.insert(20)\n",
    "bst.insert(40)\n",
    "bst.insert(60)\n",
    "bst.insert(80)\n",
    "\n",
    "print(\"Inorder Traversal:\", bst.inorder_traversal())\n",
    "\n",
    "search_key = 40\n",
    "search_result = bst.search(search_key)\n",
    "\n",
    "if search_result:\n",
    "    print(f\"Key {search_key} found in the BST.\")\n",
    "else:\n",
    "    print(f\"Key {search_key} not found in the BST.\")\n"
   ]
  },
  {
   "cell_type": "code",
   "execution_count": 16,
   "id": "476f5778-929d-439c-8411-966839ab4605",
   "metadata": {},
   "outputs": [
    {
     "name": "stdout",
     "output_type": "stream",
     "text": [
      "DFS Traversal:\n",
      "1 2 4 5 3 6 7 "
     ]
    }
   ],
   "source": [
    "from collections import defaultdict\n",
    "\n",
    "class Graph:\n",
    "    def __init__(self):\n",
    "        self.graph = defaultdict(list)\n",
    "\n",
    "    def add_edge(self, u, v):\n",
    "        self.graph[u].append(v)\n",
    "        self.graph[v].append(u)  # Uncomment if the graph is undirected\n",
    "\n",
    "    def dfs(self, start_node):\n",
    "        visited = set()\n",
    "        self._dfs(start_node, visited)\n",
    "\n",
    "    def _dfs(self, current_node, visited):\n",
    "        if current_node not in visited:\n",
    "            print(current_node, end=\" \")\n",
    "            visited.add(current_node)\n",
    "            for neighbor in self.graph[current_node]:\n",
    "                self._dfs(neighbor, visited)\n",
    "\n",
    "# Example usage:\n",
    "g = Graph()\n",
    "\n",
    "# Adding edges to the graph\n",
    "g.add_edge(1, 2)\n",
    "g.add_edge(1, 3)\n",
    "g.add_edge(2, 4)\n",
    "g.add_edge(2, 5)\n",
    "g.add_edge(3, 6)\n",
    "g.add_edge(3, 7)\n",
    "\n",
    "# Starting DFS from node 1\n",
    "print(\"DFS Traversal:\")\n",
    "g.dfs(1)\n"
   ]
  }
 ],
 "metadata": {
  "kernelspec": {
   "display_name": "Python 3 (ipykernel)",
   "language": "python",
   "name": "python3"
  },
  "language_info": {
   "codemirror_mode": {
    "name": "ipython",
    "version": 3
   },
   "file_extension": ".py",
   "mimetype": "text/x-python",
   "name": "python",
   "nbconvert_exporter": "python",
   "pygments_lexer": "ipython3",
   "version": "3.11.7"
  }
 },
 "nbformat": 4,
 "nbformat_minor": 5
}
