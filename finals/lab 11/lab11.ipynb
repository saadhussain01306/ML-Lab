{
 "cells": [
  {
   "cell_type": "markdown",
   "id": "d4a1557c-cc8a-4627-a765-64611698b992",
   "metadata": {},
   "source": [
    "## 11.Write a Program to develop simple single layer perceptron to implement AND, OR  Boolean functions."
   ]
  },
  {
   "cell_type": "code",
   "execution_count": 2,
   "id": "c1418602-122e-4d0c-85a1-743a395d5b52",
   "metadata": {},
   "outputs": [
    {
     "name": "stdout",
     "output_type": "stream",
     "text": [
      "AND Function Predictions:\n",
      "[[0]\n",
      " [0]\n",
      " [0]\n",
      " [1]]\n",
      "\n",
      "OR Function Predictions:\n",
      "[[0]\n",
      " [1]\n",
      " [1]\n",
      " [1]]\n",
      "\n",
      "AND Function Prediction for input [1, 1]:\n",
      "[[1]]\n",
      "\n",
      "OR Function Prediction for input [0, 1]:\n",
      "[[1]]\n"
     ]
    }
   ],
   "source": [
    "# Without using keras\n",
    "\n",
    "import numpy as np\n",
    "\n",
    "# Activation function (step function)\n",
    "def step_function(x):\n",
    "    return np.where(x >= 0, 1, 0)\n",
    "\n",
    "# Define the training data for the AND function\n",
    "X_and = np.array([[0, 0], [0, 1], [1, 0], [1, 1]])\n",
    "y_and = np.array([[0], [0], [0], [1]])\n",
    "\n",
    "# Define the training data for the OR function\n",
    "X_or = np.array([[0, 0], [0, 1], [1, 0], [1, 1]])\n",
    "y_or = np.array([[0], [1], [1], [1]])\n",
    "\n",
    "# Define the Single-layer Perceptron class\n",
    "class Perceptron:\n",
    "    def __init__(self, input_size, learning_rate=0.1, epochs=1000):\n",
    "        # Initialize weights to zero\n",
    "        self.weights = np.zeros((input_size, 1))\n",
    "        # Initialize bias to zero\n",
    "        self.bias = 0\n",
    "        # Set the learning rate and the number of training epochs\n",
    "        self.learning_rate = learning_rate\n",
    "        self.epochs = epochs\n",
    "\n",
    "    def train(self, X, y):\n",
    "        # Training process\n",
    "        for _ in range(self.epochs):\n",
    "            for inputs, label in zip(X, y):\n",
    "                # Reshape inputs to column vector\n",
    "                inputs = inputs.reshape(-1, 1)\n",
    "                # Calculate linear output\n",
    "                linear_output = np.dot(inputs.T, self.weights) + self.bias\n",
    "                # Apply step function to get the prediction\n",
    "                prediction = step_function(linear_output)\n",
    "                # Calculate the error\n",
    "                error = label - prediction\n",
    "                # Update weights and bias based on the error\n",
    "                self.weights += self.learning_rate * error * inputs\n",
    "                self.bias += self.learning_rate * error\n",
    "\n",
    "    def predict(self, X):\n",
    "        # Prediction process\n",
    "        linear_output = np.dot(X, self.weights) + self.bias\n",
    "        return step_function(linear_output)\n",
    "\n",
    "# Training the Perceptron for AND function\n",
    "perceptron_and = Perceptron(input_size=2)\n",
    "perceptron_and.train(X_and, y_and)\n",
    "\n",
    "# Training the Perceptron for OR function\n",
    "perceptron_or = Perceptron(input_size=2)\n",
    "perceptron_or.train(X_or, y_or)\n",
    "\n",
    "# Print training results for the AND function\n",
    "print(\"AND Function Predictions:\")\n",
    "print(perceptron_and.predict(X_and))\n",
    "\n",
    "# Print training results for the OR function\n",
    "print(\"\\nOR Function Predictions:\")\n",
    "print(perceptron_or.predict(X_or))\n",
    "\n",
    "# Manually test specific input values for the AND function\n",
    "and_test_input = np.array([[1, 1]])\n",
    "print(\"\\nAND Function Prediction for input [1, 1]:\")\n",
    "print(perceptron_and.predict(and_test_input))\n",
    "\n",
    "# Manually test specific input values for the OR function\n",
    "or_test_input = np.array([[0, 1]])\n",
    "print(\"\\nOR Function Prediction for input [0, 1]:\")\n",
    "print(perceptron_or.predict(or_test_input))"
   ]
  },
  {
   "cell_type": "code",
   "execution_count": null,
   "id": "42698704-1fc5-45e7-88ca-6c275139b331",
   "metadata": {},
   "outputs": [],
   "source": []
  }
 ],
 "metadata": {
  "kernelspec": {
   "display_name": "Python 3 (ipykernel)",
   "language": "python",
   "name": "python3"
  },
  "language_info": {
   "codemirror_mode": {
    "name": "ipython",
    "version": 3
   },
   "file_extension": ".py",
   "mimetype": "text/x-python",
   "name": "python",
   "nbconvert_exporter": "python",
   "pygments_lexer": "ipython3",
   "version": "3.11.7"
  }
 },
 "nbformat": 4,
 "nbformat_minor": 5
}
